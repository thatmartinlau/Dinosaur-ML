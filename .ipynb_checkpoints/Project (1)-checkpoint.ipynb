{
 "cells": [
  {
   "cell_type": "markdown",
   "metadata": {},
   "source": [
    "# Paleontology Machine Learning Project\n"
   ]
  },
  {
   "cell_type": "code",
   "execution_count": 25,
   "metadata": {
    "colab": {
     "base_uri": "https://localhost:8080/",
     "height": 351
    },
    "id": "-XDDvtnd3LNc",
    "outputId": "d6031634-a2be-499b-847d-98f2a8589d29"
   },
   "outputs": [],
   "source": [
    "import os\n",
    "import numpy as np\n",
    "import matplotlib.pyplot as plt\n",
    "import pandas as pd\n",
    "import sklearn.metrics as metrics\n",
    "#import google.colab\n",
    "#from google.colab import files\n",
    "#uploaded = files.upload()"
   ]
  },
  {
   "cell_type": "markdown",
   "metadata": {
    "id": "i4ATsNzo6Ev9"
   },
   "source": [
    "  # Processing data"
   ]
  },
  {
   "cell_type": "code",
   "execution_count": 26,
   "metadata": {
    "colab": {
     "base_uri": "https://localhost:8080/"
    },
    "id": "fckki6Cw390B",
    "outputId": "c8c97e11-009c-493c-de81-3cd842937fa6"
   },
   "outputs": [],
   "source": [
    "data = pd.read_csv('thegigafile.csv')"
   ]
  },
  {
   "cell_type": "code",
   "execution_count": 27,
   "metadata": {
    "colab": {
     "base_uri": "https://localhost:8080/",
     "height": 617
    },
    "id": "vNGbgc_a-CQC",
    "outputId": "e5fe1fb7-5d4a-456a-ddd6-5350de22ba89"
   },
   "outputs": [
    {
     "data": {
      "text/html": [
       "<div>\n",
       "<style scoped>\n",
       "    .dataframe tbody tr th:only-of-type {\n",
       "        vertical-align: middle;\n",
       "    }\n",
       "\n",
       "    .dataframe tbody tr th {\n",
       "        vertical-align: top;\n",
       "    }\n",
       "\n",
       "    .dataframe thead th {\n",
       "        text-align: right;\n",
       "    }\n",
       "</style>\n",
       "<table border=\"1\" class=\"dataframe\">\n",
       "  <thead>\n",
       "    <tr style=\"text-align: right;\">\n",
       "      <th></th>\n",
       "      <th>max_ma</th>\n",
       "      <th>min_ma</th>\n",
       "      <th>genus</th>\n",
       "      <th>lng</th>\n",
       "      <th>lat</th>\n",
       "      <th>paleolng</th>\n",
       "      <th>paleolat</th>\n",
       "      <th>lithology1</th>\n",
       "      <th>composition</th>\n",
       "    </tr>\n",
       "  </thead>\n",
       "  <tbody>\n",
       "    <tr>\n",
       "      <th>0</th>\n",
       "      <td>353.8</td>\n",
       "      <td>345.3</td>\n",
       "      <td>Australosutura</td>\n",
       "      <td>-98.099998</td>\n",
       "      <td>31.000000</td>\n",
       "      <td>-65.59</td>\n",
       "      <td>-27.46</td>\n",
       "      <td>\"carbonate\"</td>\n",
       "      <td>low Mg calcite, chitin</td>\n",
       "    </tr>\n",
       "    <tr>\n",
       "      <th>1</th>\n",
       "      <td>353.8</td>\n",
       "      <td>345.3</td>\n",
       "      <td>Carbonocoryphe</td>\n",
       "      <td>-98.099998</td>\n",
       "      <td>31.000000</td>\n",
       "      <td>-65.59</td>\n",
       "      <td>-27.46</td>\n",
       "      <td>\"carbonate\"</td>\n",
       "      <td>low Mg calcite, chitin</td>\n",
       "    </tr>\n",
       "    <tr>\n",
       "      <th>2</th>\n",
       "      <td>353.8</td>\n",
       "      <td>345.3</td>\n",
       "      <td>Thigriffides</td>\n",
       "      <td>-98.099998</td>\n",
       "      <td>31.000000</td>\n",
       "      <td>-65.59</td>\n",
       "      <td>-27.46</td>\n",
       "      <td>\"carbonate\"</td>\n",
       "      <td>low Mg calcite, chitin</td>\n",
       "    </tr>\n",
       "    <tr>\n",
       "      <th>3</th>\n",
       "      <td>353.8</td>\n",
       "      <td>345.3</td>\n",
       "      <td>Pudoproetus</td>\n",
       "      <td>-98.099998</td>\n",
       "      <td>31.000000</td>\n",
       "      <td>-65.59</td>\n",
       "      <td>-27.46</td>\n",
       "      <td>\"carbonate\"</td>\n",
       "      <td>low Mg calcite, chitin</td>\n",
       "    </tr>\n",
       "    <tr>\n",
       "      <th>4</th>\n",
       "      <td>353.8</td>\n",
       "      <td>345.3</td>\n",
       "      <td>Pudoproetus</td>\n",
       "      <td>-98.099998</td>\n",
       "      <td>31.000000</td>\n",
       "      <td>-65.59</td>\n",
       "      <td>-27.46</td>\n",
       "      <td>\"carbonate\"</td>\n",
       "      <td>low Mg calcite, chitin</td>\n",
       "    </tr>\n",
       "    <tr>\n",
       "      <th>...</th>\n",
       "      <td>...</td>\n",
       "      <td>...</td>\n",
       "      <td>...</td>\n",
       "      <td>...</td>\n",
       "      <td>...</td>\n",
       "      <td>...</td>\n",
       "      <td>...</td>\n",
       "      <td>...</td>\n",
       "      <td>...</td>\n",
       "    </tr>\n",
       "    <tr>\n",
       "      <th>743654</th>\n",
       "      <td>99.6</td>\n",
       "      <td>93.5</td>\n",
       "      <td>Lepicerus</td>\n",
       "      <td>96.720001</td>\n",
       "      <td>26.360001</td>\n",
       "      <td>105.50</td>\n",
       "      <td>8.29</td>\n",
       "      <td>amber</td>\n",
       "      <td>chitin</td>\n",
       "    </tr>\n",
       "    <tr>\n",
       "      <th>743655</th>\n",
       "      <td>468.1</td>\n",
       "      <td>460.9</td>\n",
       "      <td>Eremotoechia</td>\n",
       "      <td>-86.784721</td>\n",
       "      <td>33.311111</td>\n",
       "      <td>-114.63</td>\n",
       "      <td>-8.13</td>\n",
       "      <td>\"limestone\"</td>\n",
       "      <td>low Mg calcite</td>\n",
       "    </tr>\n",
       "    <tr>\n",
       "      <th>743656</th>\n",
       "      <td>467.3</td>\n",
       "      <td>458.4</td>\n",
       "      <td>Eremotoechia</td>\n",
       "      <td>-84.129166</td>\n",
       "      <td>35.741669</td>\n",
       "      <td>-112.38</td>\n",
       "      <td>-10.30</td>\n",
       "      <td>\"limestone\"</td>\n",
       "      <td>low Mg calcite</td>\n",
       "    </tr>\n",
       "    <tr>\n",
       "      <th>743657</th>\n",
       "      <td>467.3</td>\n",
       "      <td>458.4</td>\n",
       "      <td>Eremotoechia</td>\n",
       "      <td>-84.125000</td>\n",
       "      <td>35.750000</td>\n",
       "      <td>-112.37</td>\n",
       "      <td>-10.29</td>\n",
       "      <td>\"limestone\"</td>\n",
       "      <td>low Mg calcite</td>\n",
       "    </tr>\n",
       "    <tr>\n",
       "      <th>743658</th>\n",
       "      <td>468.1</td>\n",
       "      <td>460.9</td>\n",
       "      <td>Pionomena</td>\n",
       "      <td>-77.816666</td>\n",
       "      <td>39.599998</td>\n",
       "      <td>-104.99</td>\n",
       "      <td>-8.77</td>\n",
       "      <td>\"limestone\"</td>\n",
       "      <td>low Mg calcite</td>\n",
       "    </tr>\n",
       "  </tbody>\n",
       "</table>\n",
       "<p>743659 rows × 9 columns</p>\n",
       "</div>"
      ],
      "text/plain": [
       "        max_ma  min_ma           genus        lng        lat  paleolng  \\\n",
       "0        353.8   345.3  Australosutura -98.099998  31.000000    -65.59   \n",
       "1        353.8   345.3  Carbonocoryphe -98.099998  31.000000    -65.59   \n",
       "2        353.8   345.3    Thigriffides -98.099998  31.000000    -65.59   \n",
       "3        353.8   345.3     Pudoproetus -98.099998  31.000000    -65.59   \n",
       "4        353.8   345.3     Pudoproetus -98.099998  31.000000    -65.59   \n",
       "...        ...     ...             ...        ...        ...       ...   \n",
       "743654    99.6    93.5       Lepicerus  96.720001  26.360001    105.50   \n",
       "743655   468.1   460.9    Eremotoechia -86.784721  33.311111   -114.63   \n",
       "743656   467.3   458.4    Eremotoechia -84.129166  35.741669   -112.38   \n",
       "743657   467.3   458.4    Eremotoechia -84.125000  35.750000   -112.37   \n",
       "743658   468.1   460.9       Pionomena -77.816666  39.599998   -104.99   \n",
       "\n",
       "        paleolat   lithology1             composition  \n",
       "0         -27.46  \"carbonate\"  low Mg calcite, chitin  \n",
       "1         -27.46  \"carbonate\"  low Mg calcite, chitin  \n",
       "2         -27.46  \"carbonate\"  low Mg calcite, chitin  \n",
       "3         -27.46  \"carbonate\"  low Mg calcite, chitin  \n",
       "4         -27.46  \"carbonate\"  low Mg calcite, chitin  \n",
       "...          ...          ...                     ...  \n",
       "743654      8.29        amber                  chitin  \n",
       "743655     -8.13  \"limestone\"          low Mg calcite  \n",
       "743656    -10.30  \"limestone\"          low Mg calcite  \n",
       "743657    -10.29  \"limestone\"          low Mg calcite  \n",
       "743658     -8.77  \"limestone\"          low Mg calcite  \n",
       "\n",
       "[743659 rows x 9 columns]"
      ]
     },
     "execution_count": 27,
     "metadata": {},
     "output_type": "execute_result"
    }
   ],
   "source": [
    "#Vizualising data \n",
    "data"
   ]
  },
  {
   "cell_type": "code",
   "execution_count": 28,
   "metadata": {
    "colab": {
     "base_uri": "https://localhost:8080/"
    },
    "id": "aYdYXzaQ-QbG",
    "outputId": "6d345f32-7fee-4c2a-db3d-9a89033d2122"
   },
   "outputs": [
    {
     "name": "stdout",
     "output_type": "stream",
     "text": [
      "9\n"
     ]
    }
   ],
   "source": [
    "print(len(data.columns))"
   ]
  },
  {
   "cell_type": "markdown",
   "metadata": {},
   "source": [
    "# K-nearest neighbor method  1D (Space/Genus)\n"
   ]
  },
  {
   "cell_type": "code",
   "execution_count": 29,
   "metadata": {},
   "outputs": [],
   "source": [
    "#Import stuff for k-nearest neighbor \n",
    "import sklearn.neighbors\n",
    "import sklearn.linear_model\n",
    "from sklearn.utils import shuffle\n",
    "from scipy.spatial import Voronoi, voronoi_plot_2d\n",
    "from matplotlib.colors import ListedColormap\n",
    "from sklearn.metrics import accuracy_score\n",
    "#from mpl_toolkits.basemap import Basemap\n",
    "\n",
    "\n"
   ]
  },
  {
   "cell_type": "code",
   "execution_count": 30,
   "metadata": {},
   "outputs": [],
   "source": [
    "\n",
    "#Test here on only three data frame\n",
    "new_table = data[['lng', 'lat', 'genus']].copy()\n"
   ]
  },
  {
   "cell_type": "code",
   "execution_count": 31,
   "metadata": {},
   "outputs": [
    {
     "data": {
      "text/html": [
       "<div>\n",
       "<style scoped>\n",
       "    .dataframe tbody tr th:only-of-type {\n",
       "        vertical-align: middle;\n",
       "    }\n",
       "\n",
       "    .dataframe tbody tr th {\n",
       "        vertical-align: top;\n",
       "    }\n",
       "\n",
       "    .dataframe thead th {\n",
       "        text-align: right;\n",
       "    }\n",
       "</style>\n",
       "<table border=\"1\" class=\"dataframe\">\n",
       "  <thead>\n",
       "    <tr style=\"text-align: right;\">\n",
       "      <th></th>\n",
       "      <th>lng</th>\n",
       "      <th>lat</th>\n",
       "      <th>genus</th>\n",
       "    </tr>\n",
       "  </thead>\n",
       "  <tbody>\n",
       "    <tr>\n",
       "      <th>0</th>\n",
       "      <td>-98.099998</td>\n",
       "      <td>31.000000</td>\n",
       "      <td>Australosutura</td>\n",
       "    </tr>\n",
       "    <tr>\n",
       "      <th>1</th>\n",
       "      <td>-98.099998</td>\n",
       "      <td>31.000000</td>\n",
       "      <td>Carbonocoryphe</td>\n",
       "    </tr>\n",
       "    <tr>\n",
       "      <th>2</th>\n",
       "      <td>-98.099998</td>\n",
       "      <td>31.000000</td>\n",
       "      <td>Thigriffides</td>\n",
       "    </tr>\n",
       "    <tr>\n",
       "      <th>3</th>\n",
       "      <td>-98.099998</td>\n",
       "      <td>31.000000</td>\n",
       "      <td>Pudoproetus</td>\n",
       "    </tr>\n",
       "    <tr>\n",
       "      <th>4</th>\n",
       "      <td>-98.099998</td>\n",
       "      <td>31.000000</td>\n",
       "      <td>Pudoproetus</td>\n",
       "    </tr>\n",
       "    <tr>\n",
       "      <th>...</th>\n",
       "      <td>...</td>\n",
       "      <td>...</td>\n",
       "      <td>...</td>\n",
       "    </tr>\n",
       "    <tr>\n",
       "      <th>743654</th>\n",
       "      <td>96.720001</td>\n",
       "      <td>26.360001</td>\n",
       "      <td>Lepicerus</td>\n",
       "    </tr>\n",
       "    <tr>\n",
       "      <th>743655</th>\n",
       "      <td>-86.784721</td>\n",
       "      <td>33.311111</td>\n",
       "      <td>Eremotoechia</td>\n",
       "    </tr>\n",
       "    <tr>\n",
       "      <th>743656</th>\n",
       "      <td>-84.129166</td>\n",
       "      <td>35.741669</td>\n",
       "      <td>Eremotoechia</td>\n",
       "    </tr>\n",
       "    <tr>\n",
       "      <th>743657</th>\n",
       "      <td>-84.125000</td>\n",
       "      <td>35.750000</td>\n",
       "      <td>Eremotoechia</td>\n",
       "    </tr>\n",
       "    <tr>\n",
       "      <th>743658</th>\n",
       "      <td>-77.816666</td>\n",
       "      <td>39.599998</td>\n",
       "      <td>Pionomena</td>\n",
       "    </tr>\n",
       "  </tbody>\n",
       "</table>\n",
       "<p>743659 rows × 3 columns</p>\n",
       "</div>"
      ],
      "text/plain": [
       "              lng        lat           genus\n",
       "0      -98.099998  31.000000  Australosutura\n",
       "1      -98.099998  31.000000  Carbonocoryphe\n",
       "2      -98.099998  31.000000    Thigriffides\n",
       "3      -98.099998  31.000000     Pudoproetus\n",
       "4      -98.099998  31.000000     Pudoproetus\n",
       "...           ...        ...             ...\n",
       "743654  96.720001  26.360001       Lepicerus\n",
       "743655 -86.784721  33.311111    Eremotoechia\n",
       "743656 -84.129166  35.741669    Eremotoechia\n",
       "743657 -84.125000  35.750000    Eremotoechia\n",
       "743658 -77.816666  39.599998       Pionomena\n",
       "\n",
       "[743659 rows x 3 columns]"
      ]
     },
     "execution_count": 31,
     "metadata": {},
     "output_type": "execute_result"
    }
   ],
   "source": [
    "new_table"
   ]
  },
  {
   "cell_type": "markdown",
   "metadata": {},
   "source": [
    "# 1) Using k-nearest neighbor with 3 genuses \n",
    "\n",
    "##Look at the most occurences of genuses "
   ]
  },
  {
   "cell_type": "code",
   "execution_count": 41,
   "metadata": {},
   "outputs": [
    {
     "name": "stdout",
     "output_type": "stream",
     "text": [
      "Ranking of genera with the most occurrences:\n"
     ]
    }
   ],
   "source": [
    "genus_counts = new_table['genus'].value_counts().reset_index()\n",
    "genus_counts.columns = ['genus', 'count']\n",
    "genus_counts = genus_counts.sort_values(by='count', ascending=False)\n",
    "\n",
    "# Print the ranking\n",
    "print(\"Ranking of genera with the most occurrences:\")\n",
    "#for index, row in genus_counts.iterrows():\n",
    "#    print(f\"{index+1}. {row['genus']}: {row['count']} occurrences\")"
   ]
  },
  {
   "cell_type": "code",
   "execution_count": 42,
   "metadata": {},
   "outputs": [],
   "source": [
    "filtered_table = new_table[new_table['genus'].isin(['Eremotoechia', 'Pudoproetus', 'Carbonocoryphe'])]"
   ]
  },
  {
   "cell_type": "code",
   "execution_count": 43,
   "metadata": {},
   "outputs": [
    {
     "data": {
      "text/plain": [
       "38"
      ]
     },
     "execution_count": 43,
     "metadata": {},
     "output_type": "execute_result"
    }
   ],
   "source": [
    "filtered_table \n",
    "len(filtered_table)"
   ]
  },
  {
   "cell_type": "code",
   "execution_count": 44,
   "metadata": {
    "scrolled": true
   },
   "outputs": [
    {
     "data": {
      "image/png": "[encoded data removed]",
      "text/plain": [
       "<Figure size 1000x600 with 1 Axes>"
      ]
     },
     "metadata": {},
     "output_type": "display_data"
    }
   ],
   "source": [
    "\n",
    "\n",
    "color_map = {\n",
    "    'Carbonocoryphe': 'blue',\n",
    "    'Pudoproetus': 'green',\n",
    "    'Eremotoechia': 'red'\n",
    "}\n",
    "\n",
    "# Create a scatter plot\n",
    "plt.figure(figsize=(10, 6))\n",
    "for genus, group in filtered_table.groupby('genus'):\n",
    "    plt.scatter(group['lng'], group['lat'], label=genus, color=color_map[genus])\n",
    "\n",
    "# Add labels and legend\n",
    "plt.xlabel('Longitude')\n",
    "plt.ylabel('Latitude')\n",
    "plt.title('Scatter Plot of Longitude vs Latitude')\n",
    "plt.legend()\n",
    "\n",
    "# Show the plot\n",
    "plt.show()"
   ]
  },
  {
   "cell_type": "code",
   "execution_count": 45,
   "metadata": {},
   "outputs": [
    {
     "name": "stdout",
     "output_type": "stream",
     "text": [
      "Accuracy: 0.5\n"
     ]
    }
   ],
   "source": [
    "# Get the number of rows in the DataFrame\n",
    "total_rows = len(filtered_table)\n",
    "\n",
    "# Select the indices for training and testing sets\n",
    "train_indices = list(range(total_rows - 10))  # Use all rows except the last 10 for training\n",
    "test_indices = list(range(total_rows - 10, total_rows))  # Use the last 10 rows for testing\n",
    "\n",
    "# Split the DataFrame into training and testing sets\n",
    "x_train = filtered_table.iloc[train_indices][['lng', 'lat']]  # Assuming 'lng' and 'lat' are the features\n",
    "y_train = filtered_table.iloc[train_indices]['genus']\n",
    "x_test = filtered_table.iloc[test_indices][['lng', 'lat']]\n",
    "y_test = filtered_table.iloc[test_indices]['genus']\n",
    "\n",
    "\n",
    "#try to use k-nearest neighbor on simple data \n",
    "model = sklearn.neighbors.KNeighborsClassifier(n_neighbors=2)\n",
    "model.fit(X=x_train, y=y_train)# --> modify this line to get something better ? \n",
    "\n",
    "# Make predictions on the test set\n",
    "y_pred = model.predict(x_test)\n",
    "\n",
    "# Calculate the accuracy of the model\n",
    "accuracy = accuracy_score(y_test, y_pred)\n",
    "\n",
    "print(\"Accuracy:\", accuracy)"
   ]
  },
  {
   "cell_type": "code",
   "execution_count": 46,
   "metadata": {},
   "outputs": [],
   "source": [
    "filtered_table2 = new_table[new_table['genus'].isin(['Ostrea', 'Composita', 'Chlamys'])]"
   ]
  },
  {
   "cell_type": "code",
   "execution_count": 47,
   "metadata": {},
   "outputs": [
    {
     "data": {
      "text/plain": [
       "5081"
      ]
     },
     "execution_count": 47,
     "metadata": {},
     "output_type": "execute_result"
    }
   ],
   "source": [
    "filtered_table2= filtered_table2.sample(frac=1).reset_index(drop=True)\n",
    "len(filtered_table2)"
   ]
  },
  {
   "cell_type": "code",
   "execution_count": 48,
   "metadata": {},
   "outputs": [
    {
     "data": {
      "image/png": "[encoded data removed]",
      "text/plain": [
       "<Figure size 1000x600 with 1 Axes>"
      ]
     },
     "metadata": {},
     "output_type": "display_data"
    }
   ],
   "source": [
    "color_map = {\n",
    "    'Ostrea': 'blue',\n",
    "    'Composita': 'green',\n",
    "    'Chlamys': 'red'\n",
    "}\n",
    "\n",
    "# Create a scatter plot\n",
    "plt.figure(figsize=(10, 6))\n",
    "for genus, group in filtered_table2.groupby('genus'):\n",
    "    plt.scatter(group['lng'], group['lat'], label=genus, color=color_map[genus])\n",
    "\n",
    "# Add labels and legend\n",
    "plt.xlabel('Longitude')\n",
    "plt.ylabel('Latitude')\n",
    "plt.title('Scatter Plot of Longitude vs Latitude')\n",
    "plt.legend()\n",
    "\n",
    "# Show the plot\n",
    "plt.show()"
   ]
  },
  {
   "cell_type": "code",
   "execution_count": 49,
   "metadata": {},
   "outputs": [
    {
     "name": "stdout",
     "output_type": "stream",
     "text": [
      "Accuracy: 0.7\n"
     ]
    }
   ],
   "source": [
    "# Get the number of rows in the DataFrame\n",
    "total_rows = len(filtered_table2)\n",
    "\n",
    "# Select the indices for training and testing sets\n",
    "train_indices = list(range(total_rows - 10))  # Use all rows except the last 10 for training\n",
    "test_indices = list(range(total_rows - 10, total_rows))  # Use the last 10 rows for testing\n",
    "\n",
    "# Split the DataFrame into training and testing sets\n",
    "x_train = filtered_table2.iloc[train_indices][['lng', 'lat']]  # Assuming 'lng' and 'lat' are the features\n",
    "y_train = filtered_table2.iloc[train_indices]['genus']\n",
    "x_test = filtered_table2.iloc[test_indices][['lng', 'lat']]\n",
    "y_test = filtered_table2.iloc[test_indices]['genus']\n",
    "\n",
    "\n",
    "#try to use k-nearest neighbor on simple data \n",
    "model = sklearn.neighbors.KNeighborsClassifier(n_neighbors=2)\n",
    "model.fit(X=x_train, y=y_train)# --> modify this line to get something better ? \n",
    "\n",
    "# Make predictions on the test set\n",
    "y_pred = model.predict(x_test)\n",
    "\n",
    "# Calculate the accuracy of the model\n",
    "accuracy = accuracy_score(y_test, y_pred)\n",
    "\n",
    "print(\"Accuracy:\", accuracy)"
   ]
  },
  {
   "cell_type": "markdown",
   "metadata": {},
   "source": [
    "# 2) k nearest neighbor 3D (Space/ Time/ genuses)"
   ]
  },
  {
   "cell_type": "markdown",
   "metadata": {},
   "source": [
    "Lets first renormalize the columns. We need to find a way to calculate distance"
   ]
  },
  {
   "cell_type": "code",
   "execution_count": 50,
   "metadata": {},
   "outputs": [],
   "source": [
    "#defining a new metric for 3D knn using haversine distance and difference in time\n",
    "from sklearn.metrics.pairwise import haversine_distances\n",
    "def timespace_metric(X: np.array ,Y: np.array):\n",
    "    place1=X[:2]\n",
    "    place2=Y[:2]\n",
    "    space= haversine_distances([place1],[place2])/np.pi\n",
    "    time=np.abs(X[-1]-Y[-1])/587.99415\n",
    "    return (space+3*time)[0][0]"
   ]
  },
  {
   "cell_type": "code",
   "execution_count": 51,
   "metadata": {},
   "outputs": [
    {
     "data": {
      "text/plain": [
       "587.99415"
      ]
     },
     "execution_count": 51,
     "metadata": {},
     "output_type": "execute_result"
    }
   ],
   "source": [
    "# checking for the max time difference to renormalize\n",
    "matrix=data.values\n",
    "mat=(matrix[:, 0]+matrix[:, 1])/2\n",
    "M=max(mat)\n",
    "m=min(mat)\n",
    "M-m"
   ]
  },
  {
   "cell_type": "code",
   "execution_count": 52,
   "metadata": {},
   "outputs": [
    {
     "data": {
      "text/plain": [
       "1.0"
      ]
     },
     "execution_count": 52,
     "metadata": {},
     "output_type": "execute_result"
    }
   ],
   "source": [
    "#looks good\n",
    "timespace_metric(np.array([0,0,0]),np.array([np.pi,0,0]))"
   ]
  },
  {
   "cell_type": "code",
   "execution_count": 58,
   "metadata": {},
   "outputs": [
    {
     "data": {
      "text/html": [
       "<div>\n",
       "<style scoped>\n",
       "    .dataframe tbody tr th:only-of-type {\n",
       "        vertical-align: middle;\n",
       "    }\n",
       "\n",
       "    .dataframe tbody tr th {\n",
       "        vertical-align: top;\n",
       "    }\n",
       "\n",
       "    .dataframe thead th {\n",
       "        text-align: right;\n",
       "    }\n",
       "</style>\n",
       "<table border=\"1\" class=\"dataframe\">\n",
       "  <thead>\n",
       "    <tr style=\"text-align: right;\">\n",
       "      <th></th>\n",
       "      <th>lng</th>\n",
       "      <th>lat</th>\n",
       "      <th>genus</th>\n",
       "      <th>time</th>\n",
       "    </tr>\n",
       "  </thead>\n",
       "  <tbody>\n",
       "    <tr>\n",
       "      <th>217</th>\n",
       "      <td>-95.854721</td>\n",
       "      <td>36.123611</td>\n",
       "      <td>Composita</td>\n",
       "      <td>309.85</td>\n",
       "    </tr>\n",
       "    <tr>\n",
       "      <th>274</th>\n",
       "      <td>-95.421944</td>\n",
       "      <td>37.185833</td>\n",
       "      <td>Composita</td>\n",
       "      <td>328.90</td>\n",
       "    </tr>\n",
       "    <tr>\n",
       "      <th>285</th>\n",
       "      <td>-96.002502</td>\n",
       "      <td>35.937778</td>\n",
       "      <td>Composita</td>\n",
       "      <td>309.85</td>\n",
       "    </tr>\n",
       "    <tr>\n",
       "      <th>304</th>\n",
       "      <td>-96.430832</td>\n",
       "      <td>35.123890</td>\n",
       "      <td>Composita</td>\n",
       "      <td>309.85</td>\n",
       "    </tr>\n",
       "    <tr>\n",
       "      <th>319</th>\n",
       "      <td>-95.421944</td>\n",
       "      <td>37.185833</td>\n",
       "      <td>Composita</td>\n",
       "      <td>328.90</td>\n",
       "    </tr>\n",
       "    <tr>\n",
       "      <th>...</th>\n",
       "      <td>...</td>\n",
       "      <td>...</td>\n",
       "      <td>...</td>\n",
       "      <td>...</td>\n",
       "    </tr>\n",
       "    <tr>\n",
       "      <th>742386</th>\n",
       "      <td>-121.123001</td>\n",
       "      <td>37.222000</td>\n",
       "      <td>Ostrea</td>\n",
       "      <td>69.05</td>\n",
       "    </tr>\n",
       "    <tr>\n",
       "      <th>742388</th>\n",
       "      <td>-121.113998</td>\n",
       "      <td>37.223000</td>\n",
       "      <td>Ostrea</td>\n",
       "      <td>69.05</td>\n",
       "    </tr>\n",
       "    <tr>\n",
       "      <th>742473</th>\n",
       "      <td>-121.211998</td>\n",
       "      <td>37.203999</td>\n",
       "      <td>Ostrea</td>\n",
       "      <td>97.20</td>\n",
       "    </tr>\n",
       "    <tr>\n",
       "      <th>742653</th>\n",
       "      <td>-121.094002</td>\n",
       "      <td>37.192001</td>\n",
       "      <td>Ostrea</td>\n",
       "      <td>69.05</td>\n",
       "    </tr>\n",
       "    <tr>\n",
       "      <th>742668</th>\n",
       "      <td>-121.094002</td>\n",
       "      <td>37.192001</td>\n",
       "      <td>Ostrea</td>\n",
       "      <td>69.05</td>\n",
       "    </tr>\n",
       "  </tbody>\n",
       "</table>\n",
       "<p>5081 rows × 4 columns</p>\n",
       "</div>"
      ],
      "text/plain": [
       "               lng        lat      genus    time\n",
       "217     -95.854721  36.123611  Composita  309.85\n",
       "274     -95.421944  37.185833  Composita  328.90\n",
       "285     -96.002502  35.937778  Composita  309.85\n",
       "304     -96.430832  35.123890  Composita  309.85\n",
       "319     -95.421944  37.185833  Composita  328.90\n",
       "...            ...        ...        ...     ...\n",
       "742386 -121.123001  37.222000     Ostrea   69.05\n",
       "742388 -121.113998  37.223000     Ostrea   69.05\n",
       "742473 -121.211998  37.203999     Ostrea   97.20\n",
       "742653 -121.094002  37.192001     Ostrea   69.05\n",
       "742668 -121.094002  37.192001     Ostrea   69.05\n",
       "\n",
       "[5081 rows x 4 columns]"
      ]
     },
     "execution_count": 58,
     "metadata": {},
     "output_type": "execute_result"
    }
   ],
   "source": [
    "#creating the right subdataframe\n",
    "data3d=data.copy\n",
    "data3d=data[['lng', 'lat', 'genus']].copy()\n",
    "data3d['time']=(data['max_ma']+data['min_ma'])/2\n",
    "data3d = data3d[data3d['genus'].isin(['Ostrea', 'Composita', 'Chlamys'])]\n",
    "data3d"
   ]
  },
  {
   "cell_type": "code",
   "execution_count": 59,
   "metadata": {},
   "outputs": [],
   "source": [
    "def train3dknn(timespaceratio,neighbors=5,test_size=100):\n",
    "    #timespaceratio is time_importance/space_importance\n",
    "    def timespace_metric(X: np.array ,Y: np.array):\n",
    "        place1=X[:2]\n",
    "        place2=Y[:2]\n",
    "        space= haversine_distances([place1],[place2])/np.pi\n",
    "        time=np.abs(X[-1]-Y[-1])/587.99415\n",
    "        return (space+timespaceratio*time)[0][0]\n",
    "    \n",
    "    # Select the indices for training and testing sets\n",
    "    train_indices_3D = list(range(total_rows - test_size))  # Use all rows except the last 10 for training\n",
    "    test_indices_3D = list(range(total_rows - test_size, total_rows))  # Use the last 10 rows for testing\n",
    "    \n",
    "    # Split the DataFrame into training and testing sets\n",
    "    x_train_3D = data3d.iloc[train_indices_3D][['lng', 'lat','time']]  # Assuming 'lng' and 'lat' are the features\n",
    "    y_train_3D = data3d.iloc[train_indices_3D]['genus']\n",
    "    x_test_3D = data3d.iloc[test_indices_3D][['lng', 'lat','time']]\n",
    "    y_test_3D = data3d.iloc[test_indices_3D]['genus']\n",
    "    \n",
    "    \n",
    "    #try to use k-nearest neighbor on simple data \n",
    "    model3d = sklearn.neighbors.KNeighborsClassifier(n_neighbors=neighbors,metric=timespace_metric)\n",
    "    model3d.fit(X=x_train_3D, y=y_train_3D)\n",
    "    \n",
    "    # Make predictions on the test set\n",
    "    y_pred_3D = model3d.predict(x_test_3D)\n",
    "    \n",
    "    accuracy3D = accuracy_score(y_test_3D, y_pred_3D)\n",
    "    return accuracy3D"
   ]
  },
  {
   "cell_type": "code",
   "execution_count": null,
   "metadata": {},
   "outputs": [],
   "source": [
    "train3dknn(3)"
   ]
  },
  {
   "cell_type": "markdown",
   "metadata": {},
   "source": [
    "# 3) Logistic regression "
   ]
  },
  {
   "cell_type": "code",
   "execution_count": null,
   "metadata": {},
   "outputs": [],
   "source": []
  }
 ],
 "metadata": {
  "colab": {
   "provenance": []
  },
  "kernelspec": {
   "display_name": "Python 3 (ipykernel)",
   "language": "python",
   "name": "python3"
  },
  "language_info": {
   "codemirror_mode": {
    "name": "ipython",
    "version": 3
   },
   "file_extension": ".py",
   "mimetype": "text/x-python",
   "name": "python",
   "nbconvert_exporter": "python",
   "pygments_lexer": "ipython3",
   "version": "3.10.9"
  }
 },
 "nbformat": 4,
 "nbformat_minor": 4
}
